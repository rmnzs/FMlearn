{
 "cells": [
  {
   "cell_type": "markdown",
   "metadata": {},
   "source": [
    "### Simple Potential Ability Predictor\n",
    "Uses linear regression to predict potential ability from players, given their age and stats."
   ]
  },
  {
   "cell_type": "code",
   "execution_count": 21,
   "metadata": {},
   "outputs": [],
   "source": [
    "import pandas as pd\n",
    "import numpy as np\n",
    "from sklearn.model_selection import train_test_split\n",
    "from sklearn.linear_model import LinearRegression\n",
    "from sklearn.metrics import mean_absolute_error, mean_squared_error\n",
    "#from sklearn.preprocessing import OneHotEncoder, StandardScaler"
   ]
  },
  {
   "cell_type": "code",
   "execution_count": 22,
   "metadata": {},
   "outputs": [
    {
     "name": "stdout",
     "output_type": "stream",
     "text": [
      "Index(['Name', 'Position', 'Age', 'Cor', 'Cro', 'Dri', 'Fin', 'Fir', 'Fre',\n",
      "       'Hea', 'Lon', 'L Th', 'Mar', 'Pas', 'Pen', 'Tck', 'Tec', 'Agg', 'Ant',\n",
      "       'Bra', 'Cmp', 'Cnt', 'Dec', 'Det', 'Fla', 'Ldr', 'OtB', 'Pos', 'Tea',\n",
      "       'Vis', 'Wor', 'Acc', 'Agi', 'Bal', 'Jum', 'Nat', 'Pac', 'Sta', 'Str',\n",
      "       'PA'],\n",
      "      dtype='object')\n"
     ]
    }
   ],
   "source": [
    "data = pd.read_csv(\"initial_training_data.csv\")\n",
    "data.drop(columns=data.columns[0], axis=1, inplace=True) #drops inf column\n",
    "data.drop(['CA'],axis=1, inplace=True)\n",
    "data = data.head(-2) #drops last 2 NAs\n",
    "print(data.columns)"
   ]
  },
  {
   "cell_type": "code",
   "execution_count": 23,
   "metadata": {},
   "outputs": [],
   "source": [
    "#encoder = OneHotEncoder(sparse = False)\n",
    "#position_encoded = encoder.fit_transform(data[['Position']])\n",
    "#position_df = pd.DataFrame(position_encoded, columns=encoder.get_feature_names_out(['Position']))\n",
    "#data = pd.concat([data, position_df], axis=1)\n",
    "\n",
    "data.drop(columns=['Position', 'Name'], inplace=True)\n",
    "\n",
    "#scaler = StandardScaler()\n",
    "attributes = ['Age', 'Cor', 'Cro', 'Dri', 'Fin', 'Fir', 'Fre', 'Hea', 'Lon', 'L Th', 'Mar', 'Pas', 'Pen', 'Tck', 'Tec', 'Agg', 'Ant', 'Bra', 'Cmp', 'Cnt', 'Dec', 'Det', 'Fla', 'Ldr', 'OtB', 'Pos', 'Tea', 'Vis', 'Wor', 'Acc', 'Agi', 'Bal', 'Jum', 'Nat', 'Pac', 'Sta', 'Str']\n",
    "#data[attributes] = scaler.fit_transform(data[attributes])"
   ]
  },
  {
   "cell_type": "code",
   "execution_count": 24,
   "metadata": {},
   "outputs": [],
   "source": [
    "# Split into features (X) and target (y)\n",
    "X = data.drop(columns=['PA'])\n",
    "y = data['PA']\n",
    "\n",
    "# Train-test split (80-20)\n",
    "X_train, X_test, y_train, y_test = train_test_split(X, y, test_size=0.2, random_state=42)\n",
    "\n",
    "# Initialize the Linear Regression model\n",
    "model = LinearRegression()\n",
    "\n",
    "# Train the model\n",
    "model.fit(X_train, y_train)\n",
    "\n",
    "# Predict on the test set\n",
    "y_pred = model.predict(X_test)\n"
   ]
  },
  {
   "cell_type": "code",
   "execution_count": 25,
   "metadata": {},
   "outputs": [
    {
     "name": "stdout",
     "output_type": "stream",
     "text": [
      "Mean Absolute Error: 11.731109663464155\n",
      "Mean Squared Error: 231.71492505787208\n"
     ]
    }
   ],
   "source": [
    "mae = mean_absolute_error(y_test, y_pred)\n",
    "mse = mean_squared_error(y_test, y_pred)\n",
    "\n",
    "print(f\"Mean Absolute Error: {mae}\")\n",
    "print(f\"Mean Squared Error: {mse}\")"
   ]
  },
  {
   "cell_type": "code",
   "execution_count": 26,
   "metadata": {},
   "outputs": [
    {
     "name": "stdout",
     "output_type": "stream",
     "text": [
      "Index(['Age', 'Cor', 'Cro', 'Dri', 'Fin', 'Fir', 'Fre', 'Hea', 'Lon', 'L Th',\n",
      "       'Mar', 'Pas', 'Pen', 'Tck', 'Tec', 'Agg', 'Ant', 'Bra', 'Cmp', 'Cnt',\n",
      "       'Dec', 'Det', 'Fla', 'Ldr', 'OtB', 'Pos', 'Tea', 'Vis', 'Wor', 'Acc',\n",
      "       'Agi', 'Bal', 'Jum', 'Nat', 'Pac', 'Sta', 'Str'],\n",
      "      dtype='object')\n"
     ]
    }
   ],
   "source": [
    "new_data = pd.read_csv(\"las_palmas_players.csv\")\n",
    "new_data1 = new_data.copy()\n",
    "new_data.drop(columns=new_data.columns[0], axis=1, inplace=True) #drops inf column\n",
    "new_data.drop(['CA', 'PA', 'Position', 'Name'],axis=1, inplace=True)\n",
    "\n",
    "new_data = new_data.head(-2) #drops last 2 NAs\n",
    "print(new_data.columns)\n"
   ]
  },
  {
   "cell_type": "code",
   "execution_count": 27,
   "metadata": {},
   "outputs": [
    {
     "name": "stdout",
     "output_type": "stream",
     "text": [
      "Amir Ruíz predicted potential: 94.63\n",
      "Daniel Carrión predicted potential: 94.05\n",
      "Ricardo Ramírez predicted potential: 102.14\n",
      "Nauzet Gallo predicted potential: 98.07\n",
      "Sergio predicted potential: 104.58\n",
      "Neizan Ardiles predicted potential: 86.23\n",
      "Abián Guedes predicted potential: 132.14\n",
      "Ayoze predicted potential: 111.45\n",
      "Richard Bennett-Bostock predicted potential: 96.12\n",
      "Luís Veiga predicted potential: 140.54\n",
      "Michael Abba predicted potential: 117.93\n",
      "Christophe Lamy predicted potential: 119.72\n",
      "Bentagay Bethencourt predicted potential: 112.64\n",
      "Pablo Álvarez predicted potential: 112.39\n",
      "Yadel Rosquete predicted potential: 124.17\n",
      "Jelle van den Berg predicted potential: 107.66\n",
      "Abián predicted potential: 144.52\n",
      "Jesús Cruz predicted potential: 106.34\n",
      "Sergio Mariño predicted potential: 83.00\n",
      "Edey Tavío predicted potential: 57.10\n",
      "Iván Albiach predicted potential: 135.23\n",
      "Pablo Goikoetxea predicted potential: 133.85\n",
      "Abián Travieso predicted potential: 131.91\n",
      "Adam Okoro predicted potential: 143.50\n",
      "David predicted potential: 137.61\n",
      "Alejandro García predicted potential: 137.35\n",
      "Antoni predicted potential: 139.38\n",
      "Jaume Acosta predicted potential: 129.20\n",
      "Cristo Muñoz predicted potential: 96.26\n",
      "Enrique Jiménez predicted potential: 112.06\n",
      "Yared predicted potential: 121.30\n",
      "Federico Castro predicted potential: 116.74\n",
      "Víctor Manuel Asensio predicted potential: 119.96\n",
      "Nelson predicted potential: 138.36\n",
      "José Olivera predicted potential: 114.03\n",
      "Dirk Stolz predicted potential: 109.91\n",
      "Zeben Tabares predicted potential: 144.97\n",
      "Armiche Ruiz predicted potential: 123.54\n",
      "Owen Alonso predicted potential: 64.77\n",
      "Rafael Jiménez predicted potential: 148.13\n",
      "Airam predicted potential: 114.94\n",
      "Estanis predicted potential: 112.10\n",
      "Edey predicted potential: 100.26\n",
      "Jesús Sanz predicted potential: 106.64\n",
      "Javier predicted potential: 143.81\n",
      "Yeremi Peraza predicted potential: 95.04\n",
      "Carlos Alba predicted potential: 59.83\n",
      "Alejandro Aguilar predicted potential: 151.89\n",
      "Garoé Lorenzo predicted potential: 129.01\n",
      "Abián Martín predicted potential: 95.27\n",
      "Derek Llorca predicted potential: 140.85\n",
      "Vianney predicted potential: 105.51\n",
      "Vianney Díez predicted potential: 129.48\n",
      "Diego Berenguer predicted potential: 148.72\n",
      "Cristo Sales predicted potential: 86.78\n",
      "Yadel Bethencourt predicted potential: 118.90\n",
      "Edey Arbelo predicted potential: 128.61\n",
      "Toni Malón predicted potential: 122.84\n",
      "Ramon Vázquez predicted potential: 113.46\n",
      "Dino Bonomi predicted potential: 146.53\n",
      "Zeben Tavío predicted potential: 108.02\n",
      "Garoé predicted potential: 97.72\n",
      "Raúl Escrich predicted potential: 122.55\n",
      "Joaquín Simó predicted potential: 155.62\n",
      "Alfonso González predicted potential: 114.62\n",
      "Iago Barbado predicted potential: 118.24\n",
      "Enrique Dario predicted potential: 85.90\n",
      "Cristo Déniz predicted potential: 99.74\n",
      "Iván Perales predicted potential: 121.60\n",
      "Javi Díez predicted potential: 99.90\n",
      "Saúl Miranda predicted potential: 110.08\n"
     ]
    }
   ],
   "source": [
    "new_predictions = model.predict(new_data)\n",
    "names = new_data1[\"Name\"]\n",
    "for i, prediction in enumerate(new_predictions):\n",
    "    print(f\"{names[i]} predicted potential: {prediction:.2f}\")"
   ]
  },
  {
   "cell_type": "code",
   "execution_count": 28,
   "metadata": {},
   "outputs": [
    {
     "name": "stdout",
     "output_type": "stream",
     "text": [
      "Age: -0.6388\n",
      "Cor: 0.1351\n",
      "Cro: -0.1339\n",
      "Dri: 0.3830\n",
      "Fin: 0.0507\n",
      "Fir: 0.7333\n",
      "Fre: 0.2263\n",
      "Hea: 0.2613\n",
      "Lon: -0.0188\n",
      "L Th: 0.0706\n",
      "Mar: -0.5050\n",
      "Pas: 1.2395\n",
      "Pen: 0.1572\n",
      "Tck: -0.2689\n",
      "Tec: 0.2245\n",
      "Agg: -0.0423\n",
      "Ant: 1.0253\n",
      "Bra: 1.2387\n",
      "Cmp: 0.5715\n",
      "Cnt: 0.8342\n",
      "Dec: 1.3581\n",
      "Det: 0.2252\n",
      "Fla: 0.5153\n",
      "Ldr: 0.1474\n",
      "OtB: -0.2183\n",
      "Pos: 1.2812\n",
      "Tea: -0.1028\n",
      "Vis: 0.5604\n",
      "Wor: -0.2926\n",
      "Acc: 1.3244\n",
      "Agi: 1.4320\n",
      "Bal: 0.2735\n",
      "Jum: 0.3859\n",
      "Nat: 0.2256\n",
      "Pac: 0.6182\n",
      "Sta: -0.1256\n",
      "Str: 0.8829\n"
     ]
    }
   ],
   "source": [
    "#Determine the weightings of each feature used in the linear regression\n",
    "feature_names = data.columns\n",
    "coefficients = model.coef_\n",
    "feature_coefs = dict(zip(feature_names, coefficients))\n",
    "for feature, coef in feature_coefs.items():\n",
    "    print(f\"{feature}: {coef:.4f}\")"
   ]
  },
  {
   "cell_type": "code",
   "execution_count": null,
   "metadata": {},
   "outputs": [],
   "source": []
  }
 ],
 "metadata": {
  "kernelspec": {
   "display_name": "base",
   "language": "python",
   "name": "python3"
  },
  "language_info": {
   "codemirror_mode": {
    "name": "ipython",
    "version": 3
   },
   "file_extension": ".py",
   "mimetype": "text/x-python",
   "name": "python",
   "nbconvert_exporter": "python",
   "pygments_lexer": "ipython3",
   "version": "3.11.5"
  }
 },
 "nbformat": 4,
 "nbformat_minor": 2
}
