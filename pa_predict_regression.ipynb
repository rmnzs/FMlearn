{
 "cells": [
  {
   "cell_type": "markdown",
   "metadata": {},
   "source": [
    "### Simple Potential Ability Predictor\n",
    "Uses linear regression to predict potential ability from players, given their age and stats."
   ]
  },
  {
   "cell_type": "code",
   "execution_count": 1,
   "metadata": {},
   "outputs": [],
   "source": [
    "import pandas as pd\n",
    "import numpy as np\n",
    "from sklearn.model_selection import train_test_split\n",
    "from sklearn.linear_model import LinearRegression\n",
    "from sklearn.metrics import mean_absolute_error, mean_squared_error\n",
    "from sklearn.preprocessing import OneHotEncoder, StandardScaler"
   ]
  },
  {
   "cell_type": "code",
   "execution_count": 2,
   "metadata": {},
   "outputs": [
    {
     "name": "stdout",
     "output_type": "stream",
     "text": [
      "Index(['Name', 'Position', 'Age', 'Cor', 'Cro', 'Dri', 'Fin', 'Fir', 'Fre',\n",
      "       'Hea', 'Lon', 'L Th', 'Mar', 'Pas', 'Pen', 'Tck', 'Tec', 'Agg', 'Ant',\n",
      "       'Bra', 'Cmp', 'Cnt', 'Dec', 'Det', 'Fla', 'Ldr', 'OtB', 'Pos', 'Tea',\n",
      "       'Vis', 'Wor', 'Acc', 'Agi', 'Bal', 'Jum', 'Nat', 'Pac', 'Sta', 'Str',\n",
      "       'PA'],\n",
      "      dtype='object')\n"
     ]
    }
   ],
   "source": [
    "data = pd.read_csv(\"football_manager_data_no_gk.csv\")\n",
    "data.drop(columns=data.columns[0], axis=1, inplace=True) #drops inf column\n",
    "data.drop(['CA'],axis=1, inplace=True)\n",
    "data = data.head(-2) #drops last 2 NAs\n",
    "print(data.columns)"
   ]
  },
  {
   "cell_type": "code",
   "execution_count": 3,
   "metadata": {},
   "outputs": [],
   "source": [
    "#encoder = OneHotEncoder(sparse = False)\n",
    "#position_encoded = encoder.fit_transform(data[['Position']])\n",
    "#position_df = pd.DataFrame(position_encoded, columns=encoder.get_feature_names_out(['Position']))\n",
    "#data = pd.concat([data, position_df], axis=1)\n",
    "\n",
    "data.drop(columns=['Position', 'Name'], inplace=True)\n",
    "\n",
    "#scaler = StandardScaler()\n",
    "attributes = ['Age', 'Cor', 'Cro', 'Dri', 'Fin', 'Fir', 'Fre', 'Hea', 'Lon', 'L Th', 'Mar', 'Pas', 'Pen', 'Tck', 'Tec', 'Agg', 'Ant', 'Bra', 'Cmp', 'Cnt', 'Dec', 'Det', 'Fla', 'Ldr', 'OtB', 'Pos', 'Tea', 'Vis', 'Wor', 'Acc', 'Agi', 'Bal', 'Jum', 'Nat', 'Pac', 'Sta', 'Str']\n",
    "#data[attributes] = scaler.fit_transform(data[attributes])"
   ]
  },
  {
   "cell_type": "code",
   "execution_count": 4,
   "metadata": {},
   "outputs": [],
   "source": [
    "# Split into features (X) and target (y)\n",
    "X = data.drop(columns=['PA'])\n",
    "y = data['PA']\n",
    "\n",
    "# Train-test split (80-20)\n",
    "X_train, X_test, y_train, y_test = train_test_split(X, y, test_size=0.2, random_state=42)\n",
    "\n",
    "# Initialize the Linear Regression model\n",
    "model = LinearRegression()\n",
    "\n",
    "# Train the model\n",
    "model.fit(X_train, y_train)\n",
    "\n",
    "# Predict on the test set\n",
    "y_pred = model.predict(X_test)\n"
   ]
  },
  {
   "cell_type": "code",
   "execution_count": 5,
   "metadata": {},
   "outputs": [
    {
     "name": "stdout",
     "output_type": "stream",
     "text": [
      "Mean Absolute Error: 10.277056563725349\n",
      "Mean Squared Error: 175.76607364356022\n"
     ]
    }
   ],
   "source": [
    "mae = mean_absolute_error(y_test, y_pred)\n",
    "mse = mean_squared_error(y_test, y_pred)\n",
    "\n",
    "print(f\"Mean Absolute Error: {mae}\")\n",
    "print(f\"Mean Squared Error: {mse}\")"
   ]
  },
  {
   "cell_type": "code",
   "execution_count": 13,
   "metadata": {},
   "outputs": [
    {
     "name": "stdout",
     "output_type": "stream",
     "text": [
      "Index(['Age', 'Cor', 'Cro', 'Dri', 'Fin', 'Fir', 'Fre', 'Hea', 'Lon', 'L Th',\n",
      "       'Mar', 'Pas', 'Pen', 'Tck', 'Tec', 'Agg', 'Ant', 'Bra', 'Cmp', 'Cnt',\n",
      "       'Dec', 'Det', 'Fla', 'Ldr', 'OtB', 'Pos', 'Tea', 'Vis', 'Wor', 'Acc',\n",
      "       'Agi', 'Bal', 'Jum', 'Nat', 'Pac', 'Sta', 'Str'],\n",
      "      dtype='object')\n"
     ]
    }
   ],
   "source": [
    "new_data = pd.read_csv(\"las_palmas_players.csv\")\n",
    "new_data1 = new_data.copy()\n",
    "new_data1 = new_data1.drop(new_data1.tail(2).index)\n",
    "new_data.drop(columns=new_data.columns[0], axis=1, inplace=True) #drops inf column\n",
    "new_data.drop(['Position', 'Name'],axis=1, inplace=True)\n",
    "new_data = new_data.drop(new_data.tail(2).index)\n",
    "print(new_data.columns)\n"
   ]
  },
  {
   "cell_type": "code",
   "execution_count": 14,
   "metadata": {},
   "outputs": [
    {
     "name": "stdout",
     "output_type": "stream",
     "text": [
      "Owen Alonso predicted potential: 57.24\n",
      "Carlos Alba predicted potential: 46.10\n",
      "Christophe Lamy predicted potential: 111.36\n",
      "Garoé predicted potential: 95.09\n",
      "Dirk Stolz predicted potential: 103.75\n",
      "Yared predicted potential: 112.95\n",
      "Luís Veiga predicted potential: 137.15\n",
      "Richard Bennett-Bostock predicted potential: 85.60\n",
      "Jesús Cruz predicted potential: 102.73\n",
      "Sergio Mariño predicted potential: 78.50\n",
      "Edey Tavío predicted potential: 62.62\n",
      "Ayoze predicted potential: 102.64\n",
      "Alejandro Aguilar predicted potential: 130.96\n",
      "Pablo Álvarez predicted potential: 104.92\n",
      "Nelson predicted potential: 122.75\n",
      "Derek Llorca predicted potential: 129.05\n",
      "Jelle van den Berg predicted potential: 101.52\n",
      "José Olivera predicted potential: 105.73\n",
      "Estanis predicted potential: 125.97\n",
      "Zeben Tabares predicted potential: 123.20\n",
      "Pablo Goikoetxea predicted potential: 118.90\n",
      "Enrique Dario predicted potential: 88.71\n",
      "Víctor Manuel Asensio predicted potential: 120.85\n",
      "Cristo Déniz predicted potential: 90.25\n",
      "Bentagay Bethencourt predicted potential: 104.73\n",
      "Airam predicted potential: 99.57\n",
      "David predicted potential: 111.80\n",
      "Neizan Ardiles predicted potential: 83.23\n",
      "Cristo Sales predicted potential: 76.27\n",
      "Abián Martín predicted potential: 92.60\n",
      "Alejandro García predicted potential: 130.03\n",
      "Abián predicted potential: 130.02\n",
      "Iván Albiach predicted potential: 129.76\n",
      "Abián Guedes predicted potential: 128.58\n",
      "Vianney Díez predicted potential: 116.80\n",
      "Adam Okoro predicted potential: 133.30\n",
      "Federico Castro predicted potential: 111.21\n",
      "Antoni predicted potential: 138.06\n",
      "Edey predicted potential: 106.54\n",
      "Jaume Acosta predicted potential: 122.18\n",
      "Edey Arbelo predicted potential: 114.22\n",
      "Alfonso González predicted potential: 110.40\n",
      "Armiche Ruiz predicted potential: 114.52\n",
      "Iago Barbado predicted potential: 124.69\n",
      "Yadel Rosquete predicted potential: 114.50\n",
      "Manuel predicted potential: 144.60\n",
      "Cristo Muñoz predicted potential: 97.45\n",
      "Zeben Tavío predicted potential: 111.70\n",
      "Yeremi Peraza predicted potential: 92.89\n",
      "Josué Heredia predicted potential: 123.41\n",
      "Saúl Miranda predicted potential: 111.17\n",
      "Rafael Jiménez predicted potential: 137.88\n",
      "Michael Abba predicted potential: 115.71\n",
      "Raúl Escrich predicted potential: 120.39\n",
      "Jesús Sanz predicted potential: 100.46\n",
      "Javi Díez predicted potential: 96.89\n",
      "Vianney predicted potential: 101.48\n",
      "Toni Malón predicted potential: 117.37\n",
      "Dino Bonomi predicted potential: 135.07\n",
      "Joaquín Simó predicted potential: 154.80\n",
      "Francisco Moreno predicted potential: 147.96\n",
      "Javier predicted potential: 129.90\n",
      "Diego Berenguer predicted potential: 144.50\n",
      "Brad Hird predicted potential: 114.43\n"
     ]
    }
   ],
   "source": [
    "new_predictions = model.predict(new_data)\n",
    "names = new_data1[\"Name\"]\n",
    "out_df = pd.DataFrame({'Name': names, 'PA':new_predictions})\n",
    "for i, prediction in enumerate(new_predictions):\n",
    "    print(f\"{names[i]} predicted potential: {prediction:.2f}\")"
   ]
  },
  {
   "cell_type": "code",
   "execution_count": 28,
   "metadata": {},
   "outputs": [
    {
     "name": "stdout",
     "output_type": "stream",
     "text": [
      "Age: -0.6388\n",
      "Cor: 0.1351\n",
      "Cro: -0.1339\n",
      "Dri: 0.3830\n",
      "Fin: 0.0507\n",
      "Fir: 0.7333\n",
      "Fre: 0.2263\n",
      "Hea: 0.2613\n",
      "Lon: -0.0188\n",
      "L Th: 0.0706\n",
      "Mar: -0.5050\n",
      "Pas: 1.2395\n",
      "Pen: 0.1572\n",
      "Tck: -0.2689\n",
      "Tec: 0.2245\n",
      "Agg: -0.0423\n",
      "Ant: 1.0253\n",
      "Bra: 1.2387\n",
      "Cmp: 0.5715\n",
      "Cnt: 0.8342\n",
      "Dec: 1.3581\n",
      "Det: 0.2252\n",
      "Fla: 0.5153\n",
      "Ldr: 0.1474\n",
      "OtB: -0.2183\n",
      "Pos: 1.2812\n",
      "Tea: -0.1028\n",
      "Vis: 0.5604\n",
      "Wor: -0.2926\n",
      "Acc: 1.3244\n",
      "Agi: 1.4320\n",
      "Bal: 0.2735\n",
      "Jum: 0.3859\n",
      "Nat: 0.2256\n",
      "Pac: 0.6182\n",
      "Sta: -0.1256\n",
      "Str: 0.8829\n"
     ]
    }
   ],
   "source": [
    "#Determine the weightings of each feature used in the linear regression\n",
    "feature_names = data.columns\n",
    "coefficients = model.coef_\n",
    "feature_coefs = dict(zip(feature_names, coefficients))\n",
    "for feature, coef in feature_coefs.items():\n",
    "    print(f\"{feature}: {coef:.4f}\")"
   ]
  },
  {
   "cell_type": "code",
   "execution_count": null,
   "metadata": {},
   "outputs": [],
   "source": []
  }
 ],
 "metadata": {
  "kernelspec": {
   "display_name": "base",
   "language": "python",
   "name": "python3"
  },
  "language_info": {
   "codemirror_mode": {
    "name": "ipython",
    "version": 3
   },
   "file_extension": ".py",
   "mimetype": "text/x-python",
   "name": "python",
   "nbconvert_exporter": "python",
   "pygments_lexer": "ipython3",
   "version": "3.11.5"
  }
 },
 "nbformat": 4,
 "nbformat_minor": 2
}
